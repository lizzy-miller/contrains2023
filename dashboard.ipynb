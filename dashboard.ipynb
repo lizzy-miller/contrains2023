{
 "cells": [
  {
   "cell_type": "code",
   "execution_count": 19,
   "id": "46fa49ea-09a0-4e54-9935-3295197b2c0d",
   "metadata": {},
   "outputs": [],
   "source": [
    "import pandas as pd\n",
    "import numpy as np\n",
    "import dash\n",
    "from dash import dcc\n",
    "from dash import html\n",
    "from dash.dependencies import Input, Output\n",
    "from sqlalchemy import create_engine\n",
    "import psycopg2\n",
    "import os\n",
    "POSTGRES_PASSWORD = os.getenv('POSTGRES_PASSWORD')"
   ]
  },
  {
   "cell_type": "code",
   "execution_count": 20,
   "id": "e160af70-3305-47e8-800b-d6f22940993e",
   "metadata": {},
   "outputs": [],
   "source": [
    "engine = create_engine('postgresql+psycopg2://{user}:{password}@{host}:{port}/{db}'.format(\n",
    "    user = 'postgres',\n",
    "    password = POSTGRES_PASSWORD,\n",
    "    host = 'postgres',\n",
    "    port = 5432,\n",
    "    db = 'congress'\n",
    "))"
   ]
  },
  {
   "cell_type": "code",
   "execution_count": 34,
   "id": "3b318e9c-e1f8-4c67-a7ce-bea61e1ddd6d",
   "metadata": {},
   "outputs": [],
   "source": [
    "myquery = '''\n",
    "SELECT directordername, bioguideid\n",
    "FROM members\n",
    "ORDER BY lastname\n",
    "'''\n",
    "\n",
    "members = pd.read_sql_query(myquery, con=engine)\n",
    "memberlist = [{'label': x, 'value': y} \n",
    " for x, y in zip(members['directordername'], members['bioguideid'])]"
   ]
  },
  {
   "cell_type": "code",
   "execution_count": 4,
   "id": "c8f7f338-652c-4959-90b1-49deec515684",
   "metadata": {},
   "outputs": [],
   "source": [
    "external_stylesheets = ['https://codepen.io/chriddyp/pen/bWLwgP.css']"
   ]
  },
  {
   "cell_type": "code",
   "execution_count": 16,
   "id": "dcc1d7ea-3277-4576-bcd4-ed06ac556dc5",
   "metadata": {},
   "outputs": [],
   "source": [
    "mymarkdown = '''\n",
    "Congressional elections are usually all about the big national issues. However, these Representatives and Senators work for local districts and states. Not all issues are the same everywhere. The purpose of this dashboard is to collect public data from these sources: \n",
    "\n",
    "* [Official API for the U.S. Congress](https://api.congress.gov/)\n",
    "* [Voteview](https://voteview.com/)\n",
    "* [Open Secrets](https://www.opensecrets.org/open-data/api)\n",
    "* [ProPublica] (https://www.propublica.org/datastore/dataset/congressional-data-bulk-legislation-bills)\n",
    "\n",
    "'''"
   ]
  },
  {
   "cell_type": "code",
   "execution_count": 37,
   "id": "5ba5357f-7040-478e-957e-895883073f2a",
   "metadata": {},
   "outputs": [
    {
     "data": {
      "text/html": [
       "\n",
       "        <iframe\n",
       "            width=\"100%\"\n",
       "            height=\"650\"\n",
       "            src=\"http://0.0.0.0:8050/\"\n",
       "            frameborder=\"0\"\n",
       "            allowfullscreen\n",
       "            \n",
       "        ></iframe>\n",
       "        "
      ],
      "text/plain": [
       "<IPython.lib.display.IFrame at 0xffff64e4bcd0>"
      ]
     },
     "metadata": {},
     "output_type": "display_data"
    }
   ],
   "source": [
    "app = dash.Dash(__name__, external_stylesheets=external_stylesheets)\n",
    "\n",
    "app.layout = html.Div(\n",
    "    [\n",
    "        html.H1(\"Know Your Representatives in Congress\"),\n",
    "        html.H2(\"Data collected from APIs from Congress.gov, Open Secrets, Voteview.com, and Propublica\"),\n",
    "        html.H3(\"DS 6600: Data Engineering 1, UVA Data Science\"),\n",
    "\n",
    "        dcc.Markdown(mymarkdown),\n",
    "\n",
    "        dcc.Dropdown(options = memberlist,\n",
    "                    value = 'A000370')\n",
    "    ]\n",
    ")\n",
    "\n",
    "if __name__==\"__main__\":\n",
    "    app.run_server(mode= 'external', host = \"0.0.0.0\", debug=True)"
   ]
  },
  {
   "cell_type": "code",
   "execution_count": null,
   "id": "4f7768f8-3008-43e6-91e0-656918934e90",
   "metadata": {},
   "outputs": [],
   "source": []
  }
 ],
 "metadata": {
  "kernelspec": {
   "display_name": "Python 3 (ipykernel)",
   "language": "python",
   "name": "python3"
  },
  "language_info": {
   "codemirror_mode": {
    "name": "ipython",
    "version": 3
   },
   "file_extension": ".py",
   "mimetype": "text/x-python",
   "name": "python",
   "nbconvert_exporter": "python",
   "pygments_lexer": "ipython3",
   "version": "3.11.4"
  }
 },
 "nbformat": 4,
 "nbformat_minor": 5
}
