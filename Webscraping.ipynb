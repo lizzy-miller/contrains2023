{
 "cells": [
  {
   "cell_type": "code",
   "execution_count": null,
   "id": "638caf11-b984-4fa2-9432-4a8e592f8d13",
   "metadata": {},
   "outputs": [],
   "source": [
    "import numpy as np\n",
    "import pandas as pd\n",
    "import requests \n",
    "import json\n",
    "from bs4 import BeautifulSoup"
   ]
  },
  {
   "cell_type": "code",
   "execution_count": null,
   "id": "f938d08c-546c-4907-a2f9-428084dbf5d8",
   "metadata": {},
   "outputs": [],
   "source": [
    "r = requests.get('https://httpbin.org/user-agent')\n",
    "useragent = json.loads(r.text)['user-agent']"
   ]
  },
  {
   "cell_type": "code",
   "execution_count": 35,
   "id": "db343533-a982-464f-9a04-33d243ad46af",
   "metadata": {},
   "outputs": [],
   "source": [
    "headers = {'User-Agent': useragent,\n",
    "          'From': 'zrc3hc@virginia.edu'}"
   ]
  },
  {
   "cell_type": "code",
   "execution_count": 36,
   "id": "cd445b8d-7bad-4ae8-9b47-ef380bba54d9",
   "metadata": {},
   "outputs": [],
   "source": [
    "url = 'https://www.congress.gov/bill/118th-congress/senate-bill/475/text?format=txt'"
   ]
  },
  {
   "cell_type": "code",
   "execution_count": 37,
   "id": "dfd5c3b9-a2d1-451e-9ef4-6cad82c9a347",
   "metadata": {},
   "outputs": [
    {
     "data": {
      "text/plain": [
       "<Response [403]>"
      ]
     },
     "execution_count": 37,
     "metadata": {},
     "output_type": "execute_result"
    }
   ],
   "source": [
    "r = requests.get(url, headers=headers)\n",
    "r"
   ]
  },
  {
   "cell_type": "code",
   "execution_count": 38,
   "id": "be961c5d-f793-4ea0-b57f-55e4d8950e04",
   "metadata": {},
   "outputs": [
    {
     "data": {
      "text/plain": [
       "<!DOCTYPE html>\n",
       "<html lang=\"en-US\"><head><title>Just a moment...</title><meta content=\"text/html; charset=utf-8\" http-equiv=\"Content-Type\"/><meta content=\"IE=Edge\" http-equiv=\"X-UA-Compatible\"/><meta content=\"noindex,nofollow\" name=\"robots\"/><meta content=\"width=device-width,initial-scale=1\" name=\"viewport\"/><link href=\"/cdn-cgi/styles/challenges.css\" rel=\"stylesheet\"/></head><body class=\"no-js\"><div class=\"main-wrapper\" role=\"main\"><div class=\"main-content\"><noscript><div id=\"challenge-error-title\"><div class=\"h2\"><span class=\"icon-wrapper\"><div class=\"heading-icon warning-icon\"></div></span><span id=\"challenge-error-text\">Enable JavaScript and cookies to continue</span></div></div></noscript></div></div><script>(function(){window._cf_chl_opt={cvId: '2',cZone: \"www.congress.gov\",cType: 'managed',cNounce: '94987',cRay: '80ded26e2f5c5e78',cHash: '713abc2166e4fd9',cUPMDTk: \"\\/bill\\/118th-congress\\/senate-bill\\/475\\/text?format=txt&__cf_chl_tk=f9NA.tEn6Cx6TEYR9fowIJs1KQO9bng9TOaEWLmjVkg-1695933841-0-gaNycGzNCrs\",cFPWv: 'g',cTTimeMs: '1000',cMTimeMs: '0',cTplV: 5,cTplB: 'cf',cK: \"visitor-time\",fa: \"\\/bill\\/118th-congress\\/senate-bill\\/475\\/text?format=txt&__cf_chl_f_tk=f9NA.tEn6Cx6TEYR9fowIJs1KQO9bng9TOaEWLmjVkg-1695933841-0-gaNycGzNCrs\",md: \"OIhRFYXhGyrGZRUj8BGcVno9KQSUzvvVbik1Pgkv6Dc-1695933841-0-AVuN9-WtpHrMIGwwjSIbD2tFBdspA4KUT9ALAgEOtzcjwE7XLpxDFr7Y5RjtbIWKbX3SIv4ANTgFTz-f8yrQ5wUsIg5tric4hzrdphq7YlQoJPgM_irNmUkZpFTl8KMMhv8Uw0krpPLdqSwk6ngJ-Tww2Z54gaSls1ArEp-rfMR7GtDzmDAJdep5ftFef4DjaSlD4LoCcmYDN-WXciKIKi3iUmfHosQ_hcz0agozrp0GakbA7B1abz-1K3ensUtS3s-Gj0AKA5Eggy-638nhOjjVJQWUuSY3uQ7GWM5plxTZyr30gabfeII2ELns41-nl-sphgXXVaLtrBorN6gOIJCYVCwzglsOn7XG7eis4O3GflQzP1mHwV1SBy5v117XpjrFuEznJikfaicbB4uCPIJ2XwYjZwGskx2oRGZ-2bckMJNSHVbGmcHDUGDvnxXAsLKg6uL8EU3dTKANVbdp9rstexD8QcJrLaC3kkMa5l2cD3LFVQF9jnnRADOV1XVZMbEOCxgUAWL0BHo5fxRCgDajDtntAuC5NoUwMwY86jiTGi2aqH8cKNVM-2WMdJQtwPSOqpezBwihcNVgHRjOZYPhZWx19aeFGkkZqwGwMsNxhoVvYtu4TwprglNp2nU1J_nsz1z3kBzWw3jpjFVHBZ6m27zZi9wFcwJjx0SBhMRhWoYszfHMjimJWbQchKlkEnhRTXHXOpsEgwppMP1MML8Ic6F5_CQqRX6Jrj_A5ReZ_DHmKCEoqP948xNtTnRgs_WRlcoVvldj0L05eOfszTPGtyFcXNNcuQkJ0U3A3xpWgG2xrdUxUgLbwz4u3E5N6tH4jpNcLDdJ_OAaHXlgUdHsAbj_JLFGXo2YlmYX0i0uow-fGBQcLaKuASr2Ak47YvesABvYl6_9RGlF5IBo6j48f4NpwE9yzsUgU7MSOd6hwFDlfuedqxgvlgmAkE_UpENFSj2snOq9rS392ZoxKpjrBWwDdjteRpILgEm_VCBrCNsnmSOQ4TOeqwC-UkXvsQvIJDCDAR4i9-dktD689T5Nvtx5Om3MhnT5xGNyuon6EOuDoC81fgoKQjSYF_FOs8qk6Ghar-gf7u8fUnsMe0fdaa3uU-JmjPBIOOxhjpTM0EpPDCVlawvLLOOYvXaE5R2ahPgNS4NWnf6_i8phcbvJds1nGk9hNGv9cg4G6fwQmo8PH6rrHRu0-Znb4oYsT3Pefo_593VInbxCYGAIX9I6Lr-44ujSJrEYS-PUEhN9ApEXU9tv60pl3c8xS6P1Qj825giuXfIx084GPb-CVNrgzE41oEgHWuJ_SnGVCyTXJtEM2kDNhhX9O8wdh1SQNxH0KM2vh_kiS4z7c5RkCMDpGqwrjLECSaPHSmawk0-9b2QMlpHD--ZtX4r7eZr9VzmdLdCiOzRuNt7WTypfGcjZHAVFVyc5CJQihLVVSyyqGZssxG7HOt9MNm2HW_dTnfC3R4wcf_G4Ts6PfBSYzg_PhNLa_zC1JyGPMR_CZOmtvTmHtUmjZeyOQpodAsQHJzshulwwL0xAZpg2vaik6ajmkb021_x4om2oVtggdGtUN8VKvDjMOI_ImeraM_QawweUCQTac2qPXf3vIgDkqLYm2Mv7yodcNveyKQIGLV64fK0nYDxydaI5RrtoA_GcFHHgJFyAzSm2leDiWLVnEjhE_RqvPeh4SxtVilBVpZzyTFt1CE9VtXkrbMRN2XYFblBOIHIknE8GP27Fqc6tze947UA-NwjhKK9nBUhmm-iuQXvFnhL5OQOiV4g33rmMqYm2O6gDb7iPl-86zZkjiHujS91HIeblvyojuXIZ6CMCj1GmOqfQ8wQx5T9wh6gJSAu4bfZvaRzG_gxWMsLQoKMOUaUyTTfG0IJS3sr4kgtuSvA1KYTCyhe8LvDIRCdUL7Yb9F8K_uZM3VrCRKlpeJwSPtK1Mi5U5ffzABST6lbYQqw0E8kKkghXUXcrD-d7RL6EXtpvthisK9yLqw_9eY2gYY_K2tEYuN_t1tusUGpLBa_xly-Bvm5L1W_Cf1SFLwgEch___pbBXZjOYCPKvnujxQfjYA6gS7f11tw7j2EJYw1eSx157bnQjDeFowzbPEFf_Sx8MI_9vIyImRrUSvYQhv6-BUb0VjpFFdI8Hu5uCT85jqLgWX4bfCyskQRliRQCjQQTzdhE56Y-XQg1I5Q6AMpdrqQb7CbXmQIl5DpwvBalSNd6L2yY3dCGIV5bo3e4YtS_0f5C2zlR5FkNiowkt26W1baQie1a0YjoB3jBKwqdkR_Rm2TPq7qmdMCuGnm00D5oPpVhQH7I0tyAbFfqkHsyBCVwkfwpos4LY-uwrhAo3O0hcW1lr5TrFgz4df0dWxN_U2xtMag659iPfVgtvKEIWJjR7jw3XY62iCSnxAxEDR2i0aVHSVG43AaUZqTU77hIQTcw8udT1jTld7YFPHJemCPOLezAJC5jfgZhBCm63vNSmKx--bQxCPQqnUT29reUG3neN9ezfNSMVdB9gS3XYien7_wt07Sma_yERTy6KN9Xq4kV0-EsY6F8Kgksm-Y9BW1ExdAKYvefo51h2KnhyGQKmPy-LivUNxlU3BiiAqja_y3L74tWsBqtG19OnvcLuNT3O8utdSjTCBzjqYlT7YyBezGowYy92GFWNBTvP4hDU0NVL5xp6Zm4ZA\",cRq: {ru: 'aHR0cHM6Ly93d3cuY29uZ3Jlc3MuZ292L2JpbGwvMTE4dGgtY29uZ3Jlc3Mvc2VuYXRlLWJpbGwvNDc1L3RleHQ/Zm9ybWF0PXR4dA==',ra: 'cHl0aG9uLXJlcXVlc3RzLzIuMzEuMA==',rm: 'R0VU',d: 'z+LU5sHfCiVDAJrCwQNCTe5R23kYekkZD0Ibvjix34483ZFf9jTgU7DaqAKs7MLuK0hUgNmIkQzkHSxFfiGM7Q/hGhEoCy1Pg2RCp0TWrC8ll3ibrT/wra5RP+Al16zDWBFUzfYQtQPXFOhp/8vUblOdlLogAKrt4kbua55PyzoejCQgh0I8ywQ0CbKbllLJbiW5Kq45UJmYkKe9Po7Mgwv0Qetn53Gi+TxJXZrhfhFMZTdZWT0aVFX545HHCmsmL5Tbu5lNMKUivNx/R7SjwMFtrhoFkw75eBfmQgVPxvpczWhiVr2wtcfLg1a1cuFJdstD0GlizXEzSdpjNz7sxOMvbUYPO4o0tgTzc+lfckQuEz6uRxd28gSCsbmXYhIWIVQJyIyssZom6BHECyCMLAeV+LDG2AIGOCQHIOcg+2IPY+K/vISX6PhsVcUq7XBLrhq7gHHlcp6VkEE/8bc1Jwr6GwWGYoQNvdlRS1VERZbXR3J8JWmpVlHeUyBOKmcAlTFh0OXUCwSnuLtb50fgOCih8aA6ATJ5KebvuZrfyS+JUV1jAH7FRgr0i87yA9K6',t: 'MTY5NTkzMzg0MS42MjYwMDA=',cT: Math.floor(Date.now() / 1000),m: '2RiPOS6cxXBkU7/V+OaY9NGC4NOR5+ft35gQlwGdMjE=',i1: 'R7/c+aM9A/vZyqsteMF/sw==',i2: 'l2ygLG8Pz5n6GICVZNUb6g==',zh: 'P/37dfGD+KUZFm0qKuE3N/q0gn3BGPttWTswwTYBAD8=',uh: 'YE9XOpG5TeHmhA1zfs5mxC8CrRZzq2a/+r+OU7dliYQ=',hh: 'cTbG2zct7/9cr7abEWSg59sInRszec2mTWq3jspVNx4=',}};var cpo = document.createElement('script');cpo.src = '/cdn-cgi/challenge-platform/h/g/orchestrate/chl_page/v1?ray=80ded26e2f5c5e78';window._cf_chl_opt.cOgUHash = location.hash === '' && location.href.indexOf('#') !== -1 ? '#' : location.hash;window._cf_chl_opt.cOgUQuery = location.search === '' && location.href.slice(0, location.href.length - window._cf_chl_opt.cOgUHash.length).indexOf('?') !== -1 ? '?' : location.search;if (window.history && window.history.replaceState) {var ogU = location.pathname + window._cf_chl_opt.cOgUQuery + window._cf_chl_opt.cOgUHash;history.replaceState(null, null, \"\\/bill\\/118th-congress\\/senate-bill\\/475\\/text?format=txt&__cf_chl_rt_tk=f9NA.tEn6Cx6TEYR9fowIJs1KQO9bng9TOaEWLmjVkg-1695933841-0-gaNycGzNCrs\" + window._cf_chl_opt.cOgUHash);cpo.onload = function() {history.replaceState(null, null, ogU);}}document.getElementsByTagName('head')[0].appendChild(cpo);}());</script></body></html>"
      ]
     },
     "execution_count": 38,
     "metadata": {},
     "output_type": "execute_result"
    }
   ],
   "source": [
    "BeautifulSoup(r.text, 'html.parser')"
   ]
  },
  {
   "cell_type": "code",
   "execution_count": 39,
   "id": "e062a4cf-29b1-4443-97b0-82e0f25b29ab",
   "metadata": {},
   "outputs": [],
   "source": [
    "url = 'https://www.govinfo.gov/content/pkg/BILLS-118s475is/html/BILLS-118s475is.htm'"
   ]
  },
  {
   "cell_type": "code",
   "execution_count": 40,
   "id": "1a90fd59-00a3-4443-a484-b34d459b553f",
   "metadata": {},
   "outputs": [
    {
     "data": {
      "text/plain": [
       "<Response [200]>"
      ]
     },
     "execution_count": 40,
     "metadata": {},
     "output_type": "execute_result"
    }
   ],
   "source": [
    "r = requests.get(url, headers = headers)\n",
    "r"
   ]
  },
  {
   "cell_type": "code",
   "execution_count": 41,
   "id": "c2c86fd2-7003-4e20-aefb-02899df4f09a",
   "metadata": {},
   "outputs": [
    {
     "data": {
      "text/plain": [
       "\"\\n[Congressional Bills 118th Congress]\\n[From the U.S. Government Publishing Office]\\n[S. 475 Introduced in Senate (IS)]\\n\\n<DOC>\\n\\n\\n\\n\\n\\n\\n118th CONGRESS\\n  1st Session\\n                                 S. 475\\n\\n   To designate the clinic of the Department of Veterans Affairs in \\n   Gallup, New Mexico, as the Hiroshi ``Hershey'' Miyamura VA Clinic.\\n\\n\\n_______________________________________________________________________\\n\\n\\n                   IN THE SENATE OF THE UNITED STATES\\n\\n                           February 16, 2023\\n\\nMr. Heinrich (for himself and Mr. Lujan) introduced the following bill; \\nwhich was read twice and referred to the Committee on Veterans' Affairs\\n\\n_______________________________________________________________________\\n\\n                                 A BILL\\n\\n\\n \\n   To designate the clinic of the Department of Veterans Affairs in \\n   Gallup, New Mexico, as the Hiroshi ``Hershey'' Miyamura VA Clinic.\\n\\n    Be it enacted by the Senate and House of Representatives of the \\nUnited States of America in Congress assembled,\\n\\nSECTION 1. DESIGNATION OF HIROSHI ``HERSHEY'' MIYAMURA DEPARTMENT OF \\n              VETERANS AFFAIRS CLINIC.\\n\\n    (a) Findings.--Congress finds the following:\\n            (1) Hiroshi ``Hershey'' Miyamura was born on October 6, \\n        1925, in Gallup, New Mexico.\\n            (2) A second generation Japanese American, Hershey Miyamura \\n        first served in the United States Army near the end of World \\n        War II.\\n            (3) Hershey Miyamura served in the Army at a time when many \\n        of his fellow Japanese Americans, and that includes his future \\n        wife, were detained in internment camps in the United States.\\n            (4) Hershey Miyamura served in the storied 442nd Infantry \\n        Regiment, which was composed of soldiers with Japanese ancestry \\n        and became one of the most decorated units in the history of \\n        the United States military.\\n            (5) Following the start of the Korean War in 1950, the Army \\n        recalled Hershey Miyamura, who had remained as a member of the \\n        reserve components of the Army, back into active duty.\\n            (6) During an overnight firefight from April 24 to April \\n        25, 1951, then-Corporal Miyamura covered the withdrawal of his \\n        entire company from advancing enemy forces as a machine gun \\n        squad leader.\\n            (7) The selfless actions by Hershey Miyamura that night \\n        allowed all 16 of his men to withdraw safely before he was \\n        severely wounded and captured as a prisoner of war.\\n            (8) Nearly 2\\\\1/2\\\\ years later, following his release and \\n        return to the United States, President Eisenhower presented \\n        Hershey Miyamura with the Congressional Medal of Honor in a \\n        ceremony at the White House.\\n            (9) The lifelong dedication of Hershey Miyamura to the \\n        United States never ceased. It continued long after his \\n        decorated military service ended.\\n            (10) After he received his honorable discharge from the \\n        Army, Hershey Miyamura opened a service station along Route 66 \\n        in his hometown of Gallup, New Mexico.\\n            (11) Hershey Miyamura remained active in his community \\n        until his dying days, advocating for his fellow veterans and \\n        inspiring young people with lectures on patriotism, faith, and \\n        service.\\n    (b) Designation.--The clinic of the Department of Veterans Affairs \\nlocated at 2075 South NM Highway 602, Gallup, New Mexico, shall after \\nthe date of the enactment of this Act be known and designated as the \\n``Hiroshi `Hershey' Miyamura Department of Veterans Affairs Clinic'' or \\nthe ``Hiroshi `Hershey' Miyamura VA Clinic''.\\n    (c) References.--Any reference in any law, regulation, map, \\ndocument, paper, or other record of the United States to the clinic \\nreferred to in subsection (b) shall be considered to be a reference to \\nthe ``Hiroshi `Hershey' Miyamura VA Clinic''.\\n                                 <all>\\n\""
      ]
     },
     "execution_count": 41,
     "metadata": {},
     "output_type": "execute_result"
    }
   ],
   "source": [
    "mysoup = BeautifulSoup(r.text, 'html.parser')\n",
    "mysoup.find_all('pre')[0].text"
   ]
  },
  {
   "cell_type": "code",
   "execution_count": 42,
   "id": "84070703-0c4d-42d0-bc75-b52de155fe53",
   "metadata": {},
   "outputs": [
    {
     "name": "stdout",
     "output_type": "stream",
     "text": [
      "\n",
      "[Congressional Bills 118th Congress]\n",
      "[From the U.S. Government Publishing Office]\n",
      "[S. 475 Introduced in Senate (IS)]\n",
      "\n",
      "<DOC>\n",
      "\n",
      "\n",
      "\n",
      "\n",
      "\n",
      "\n",
      "118th CONGRESS\n",
      "  1st Session\n",
      "                                 S. 475\n",
      "\n",
      "   To designate the clinic of the Department of Veterans Affairs in \n",
      "   Gallup, New Mexico, as the Hiroshi ``Hershey'' Miyamura VA Clinic.\n",
      "\n",
      "\n",
      "_______________________________________________________________________\n",
      "\n",
      "\n",
      "                   IN THE SENATE OF THE UNITED STATES\n",
      "\n",
      "                           February 16, 2023\n",
      "\n",
      "Mr. Heinrich (for himself and Mr. Lujan) introduced the following bill; \n",
      "which was read twice and referred to the Committee on Veterans' Affairs\n",
      "\n",
      "_______________________________________________________________________\n",
      "\n",
      "                                 A BILL\n",
      "\n",
      "\n",
      " \n",
      "   To designate the clinic of the Department of Veterans Affairs in \n",
      "   Gallup, New Mexico, as the Hiroshi ``Hershey'' Miyamura VA Clinic.\n",
      "\n",
      "    Be it enacted by the Senate and House of Representatives of the \n",
      "United States of America in Congress assembled,\n",
      "\n",
      "SECTION 1. DESIGNATION OF HIROSHI ``HERSHEY'' MIYAMURA DEPARTMENT OF \n",
      "              VETERANS AFFAIRS CLINIC.\n",
      "\n",
      "    (a) Findings.--Congress finds the following:\n",
      "            (1) Hiroshi ``Hershey'' Miyamura was born on October 6, \n",
      "        1925, in Gallup, New Mexico.\n",
      "            (2) A second generation Japanese American, Hershey Miyamura \n",
      "        first served in the United States Army near the end of World \n",
      "        War II.\n",
      "            (3) Hershey Miyamura served in the Army at a time when many \n",
      "        of his fellow Japanese Americans, and that includes his future \n",
      "        wife, were detained in internment camps in the United States.\n",
      "            (4) Hershey Miyamura served in the storied 442nd Infantry \n",
      "        Regiment, which was composed of soldiers with Japanese ancestry \n",
      "        and became one of the most decorated units in the history of \n",
      "        the United States military.\n",
      "            (5) Following the start of the Korean War in 1950, the Army \n",
      "        recalled Hershey Miyamura, who had remained as a member of the \n",
      "        reserve components of the Army, back into active duty.\n",
      "            (6) During an overnight firefight from April 24 to April \n",
      "        25, 1951, then-Corporal Miyamura covered the withdrawal of his \n",
      "        entire company from advancing enemy forces as a machine gun \n",
      "        squad leader.\n",
      "            (7) The selfless actions by Hershey Miyamura that night \n",
      "        allowed all 16 of his men to withdraw safely before he was \n",
      "        severely wounded and captured as a prisoner of war.\n",
      "            (8) Nearly 2\\1/2\\ years later, following his release and \n",
      "        return to the United States, President Eisenhower presented \n",
      "        Hershey Miyamura with the Congressional Medal of Honor in a \n",
      "        ceremony at the White House.\n",
      "            (9) The lifelong dedication of Hershey Miyamura to the \n",
      "        United States never ceased. It continued long after his \n",
      "        decorated military service ended.\n",
      "            (10) After he received his honorable discharge from the \n",
      "        Army, Hershey Miyamura opened a service station along Route 66 \n",
      "        in his hometown of Gallup, New Mexico.\n",
      "            (11) Hershey Miyamura remained active in his community \n",
      "        until his dying days, advocating for his fellow veterans and \n",
      "        inspiring young people with lectures on patriotism, faith, and \n",
      "        service.\n",
      "    (b) Designation.--The clinic of the Department of Veterans Affairs \n",
      "located at 2075 South NM Highway 602, Gallup, New Mexico, shall after \n",
      "the date of the enactment of this Act be known and designated as the \n",
      "``Hiroshi `Hershey' Miyamura Department of Veterans Affairs Clinic'' or \n",
      "the ``Hiroshi `Hershey' Miyamura VA Clinic''.\n",
      "    (c) References.--Any reference in any law, regulation, map, \n",
      "document, paper, or other record of the United States to the clinic \n",
      "referred to in subsection (b) shall be considered to be a reference to \n",
      "the ``Hiroshi `Hershey' Miyamura VA Clinic''.\n",
      "                                 <all>\n",
      "\n"
     ]
    }
   ],
   "source": [
    "print(mysoup.find_all('pre')[0].text)"
   ]
  },
  {
   "cell_type": "code",
   "execution_count": null,
   "id": "e9177db3-32fb-4842-b9a5-fd73af94719b",
   "metadata": {},
   "outputs": [],
   "source": [
    "senate_bills = []\n",
    "for i in range(1,100):\n",
    "    if i % 10 == 0:\n",
    "        print(f\"Retrieving S. {i}\")\n",
    "    try:\n",
    "        url = f'https://www.govinfo.gov/content/pkg/BILLS-118s[i]/html/BILLS-118s475is.htm'\n",
    "        r = requests.get(url, headers=headers)\n",
    "        mysoup = BeautifulSoup(r.text, 'html.parser')\n",
    "        bill_text = mysoup.find_all('pre')[0].text\n",
    "        senate_bills.append({'Bill Number': f\"S. {i}\", \"Bill Text\": bill_text})\n",
    "    except:\n",
    "        continue\n",
    "senate_bills = pd.DataFrame.from_dict(senate_bills)"
   ]
  },
  {
   "cell_type": "code",
   "execution_count": null,
   "id": "6536e150-d716-459a-ab35-e19345d2da68",
   "metadata": {},
   "outputs": [],
   "source": [
    "senate_bills.to_csv('senate_bills.csv')"
   ]
  },
  {
   "cell_type": "code",
   "execution_count": null,
   "id": "18a0d314-3fb4-4fc7-9483-adf6d2f3d0a7",
   "metadata": {},
   "outputs": [],
   "source": []
  }
 ],
 "metadata": {
  "kernelspec": {
   "display_name": "Python 3 (ipykernel)",
   "language": "python",
   "name": "python3"
  },
  "language_info": {
   "codemirror_mode": {
    "name": "ipython",
    "version": 3
   },
   "file_extension": ".py",
   "mimetype": "text/x-python",
   "name": "python",
   "nbconvert_exporter": "python",
   "pygments_lexer": "ipython3",
   "version": "3.11.4"
  }
 },
 "nbformat": 4,
 "nbformat_minor": 5
}
