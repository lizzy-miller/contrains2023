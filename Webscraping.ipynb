{
 "cells": [
  {
   "cell_type": "code",
   "execution_count": 1,
   "id": "638caf11-b984-4fa2-9432-4a8e592f8d13",
   "metadata": {},
   "outputs": [],
   "source": [
    "import numpy as np\n",
    "import pandas as pd\n",
    "import requests \n",
    "import json\n",
    "from bs4 import BeautifulSoup"
   ]
  },
  {
   "cell_type": "code",
   "execution_count": 2,
   "id": "f938d08c-546c-4907-a2f9-428084dbf5d8",
   "metadata": {},
   "outputs": [],
   "source": [
    "r = requests.get('https://httpbin.org/user-agent')\n",
    "useragent = json.loads(r.text)['user-agent']"
   ]
  },
  {
   "cell_type": "code",
   "execution_count": 3,
   "id": "db343533-a982-464f-9a04-33d243ad46af",
   "metadata": {},
   "outputs": [],
   "source": [
    "headers = {'User-Agent': useragent,\n",
    "          'From': 'zrc3hc@virginia.edu'}"
   ]
  },
  {
   "cell_type": "code",
   "execution_count": 4,
   "id": "cd445b8d-7bad-4ae8-9b47-ef380bba54d9",
   "metadata": {},
   "outputs": [],
   "source": [
    "url = 'https://www.congress.gov/bill/118th-congress/senate-bill/475/text?format=txt'"
   ]
  },
  {
   "cell_type": "code",
   "execution_count": 5,
   "id": "dfd5c3b9-a2d1-451e-9ef4-6cad82c9a347",
   "metadata": {},
   "outputs": [
    {
     "data": {
      "text/plain": [
       "<Response [403]>"
      ]
     },
     "execution_count": 5,
     "metadata": {},
     "output_type": "execute_result"
    }
   ],
   "source": [
    "r = requests.get(url, headers=headers)\n",
    "r"
   ]
  },
  {
   "cell_type": "code",
   "execution_count": 6,
   "id": "be961c5d-f793-4ea0-b57f-55e4d8950e04",
   "metadata": {},
   "outputs": [
    {
     "data": {
      "text/plain": [
       "<!DOCTYPE html>\n",
       "<html lang=\"en-US\"><head><title>Just a moment...</title><meta content=\"text/html; charset=utf-8\" http-equiv=\"Content-Type\"/><meta content=\"IE=Edge\" http-equiv=\"X-UA-Compatible\"/><meta content=\"noindex,nofollow\" name=\"robots\"/><meta content=\"width=device-width,initial-scale=1\" name=\"viewport\"/><link href=\"/cdn-cgi/styles/challenges.css\" rel=\"stylesheet\"/></head><body class=\"no-js\"><div class=\"main-wrapper\" role=\"main\"><div class=\"main-content\"><noscript><div id=\"challenge-error-title\"><div class=\"h2\"><span class=\"icon-wrapper\"><div class=\"heading-icon warning-icon\"></div></span><span id=\"challenge-error-text\">Enable JavaScript and cookies to continue</span></div></div></noscript></div></div><script>(function(){window._cf_chl_opt={cvId: '2',cZone: \"www.congress.gov\",cType: 'managed',cNounce: '37408',cRay: '80ce4aa32dc943d7',cHash: '3ce3f4b57ca4e30',cUPMDTk: \"\\/bill\\/118th-congress\\/senate-bill\\/475\\/text?format=txt&__cf_chl_tk=NhycAR_GItuzMpFah09W_zWwbNTVEtbN5h61Oxm_Vfw-1695760507-0-gaNycGzNCqU\",cFPWv: 'g',cTTimeMs: '1000',cMTimeMs: '0',cTplV: 5,cTplB: 'cf',cK: \"visitor-time\",fa: \"\\/bill\\/118th-congress\\/senate-bill\\/475\\/text?format=txt&__cf_chl_f_tk=NhycAR_GItuzMpFah09W_zWwbNTVEtbN5h61Oxm_Vfw-1695760507-0-gaNycGzNCqU\",md: \".omiQTzCZdnHiH26jFsSmLjFmMkYoroaW0e0uQYX_NA-1695760507-0-AciOoYB8ydzCDoJB--a97CFDROYl_J5L6pItOjxBhCBFD1cIQJ5NzzJuYqJjX6-h1elD5gbfBXrhn9IDwvzBATuM-LrAuukq9WcccbZ9HsX_OMX7qpCKISlizjBRQxtj0bATMieyqz_SHcGcjKQ5CjX0If0l2-_OrFNNBXTK4l9k9fs0OqP-rgRs6ESM93YzL0HulTejomy9Y0ffspQv9NUMBe4kht8trUgj2Ynlse7Hpms4K_tR3b9SU2djJj_OJk1k4mkPuVLDYunkbLDkHQA5s55Wa1vo18YWOEwzPnpQZqbFrlXYnfKkjxizvTdleAFgFzfE-LawBTXauCaXpET3jZ6G5V5MPjPyeih8sUB0lsLkrs86iBHIodtQEaVrvCccnMDii8amts65DVUJRns7xJpGrJFV5zD0X1_lYxkFkyg6pboOf3SSN0takWdlTY6iD5RL1grqKgOl7fQxo-IpzhD_DtjSxoFgL3mYBkCaBwmdWwZmdm4zB6w8l--4j5KzZVBG-Hq7OJFvuz4rdlU0bNGE6KzNYYto_dI_IoswpDHSHUCgS3a95L4qaufeTalXJsUtiF2LT3jt0cO-FGDCN5AOS77kHIWfGM6nk5e79Ny4RJb0ekS5eq7TTS534MPXceYuhB0eDu2ALvl9zp4rR8goggV5eTBCIIrVMrJtKdF0BqlX5-5UFXRcIsztROCYGCJ1bpwco-Pa4F0xZorf8vhufy-Sx0bhwVDgeZwXiPaq0iUUExBxT_EtOuD9fsa1KqOr_a1CSWCsq90XwD8qkhVBDpxT1Yd3raKDw7eEAxWNUCxNWtGPgENRgV6gPexW58angqb1X3eLm6oL0KdtPNQoCtnjHim-ZGalenWkHF6ZlmMePELKbl_h0jf-aumy5QfXb2DgbxWbKEPwcMRLB-N-FmiLfKL_UGA6oLzd2kEGZzKoWzJZucAZ37LxT0F-1LQqgr7JjuWsXufO9VN8ZkcqRGXVp9e__e2mFVx268r2fFbCDqeweNrCvs3S-e-wYjrW7MZWBGorQylpcyk7tLFJcOhJvvgANKbrnoNHtx0OQRlZT-FfSKV9nC76X-P8HgmTxqTKNqlM9unci8XjSFaccQOcxyWOgWwNcxFIUB88OXVJ80a0j98LN8k5xefGiQfVfmsX9Q8Sr3BP-8RD_8Fgu3MBjsMyflIdx0THcQ1mSc75MupjqWMsnp6b-eeJ1X4SF6YPpjgWBDc1AcP6ZR95rVarPk7M6_HxDZNV7y4wwGHWv3jFlokSmhMJTF2JSFmCc6E96wyMeKm7_CsForQ_tq1h18XQBA4CgsxA2YGwMJYoO7iqJE-5sRgaJB4DNh8TqdMwdva1NXoWw5Xb-ynV62Ppl-YLqT1Vr1azyR5WfTiTH_Q0uhdRRz3oZv2l_b0DH1fAPNUBNs8Tc9gRACfDGauR84_OEKOkZNyeonEGhhtvxbXNSY5dMQxleTB0nj0pikBVvXvYmybV7RxSjNxXxUbimqjQ97tXBcofQnxTxa2xG9kYau3V6BFPhW-0eOEpvQ0Y3bYMn6A8_sFPjn84oIBIEaG1ZKbefSrz6QpIQv4i4J7hykmpfG2QIl9jfnG0UTMQYrahqKzyWS5ddgWzg0jfXW_Z-ET9jpFVBTeYqUX-OnL2ZhftUZdF02GMsuY8wmZeONEfm7uXOIBVNcuHevuuQH8ccDNE1DfWaUmTStDWDLSp7j2LCJvRTjLM5lAxTsECUx_gNA4UIwzi2FVSVuE2D8oorSWKkMlf8fcBH9G_1unznbS1GpoR_GCUzeju8LJglkodzdPgSpBID8NLpsnKSJCwPOi8Y__ScYBNswKg9MFu82pJt8XBjRnYo5w3owCOGqydHlScOlxABNBIU4iNEfpQyDi0JrBjogW-3rCbGBAo6_0LIgWRG0XBpmwXYdoq1K4i42TWoa7cbpCF8B9Kgp-vOxFV8oPzh7eNAl_USsgfxtMXPHpcaztyNUidANHnAeiDQWreC_a6j1Psgjtfgb9Y4YVj2kCyify9P_0_nc1nj9jgCXaH7pZKA2sLhDwkexkZ1euV9I7PIFezUjpif4holH8EJLCIm2VmnolIfuU0N5Xq9L03CpECUtF7heNDHOrkzqT0Pd-JGtZoKcW7KhI8serKNtx8I3SiWeQc6Qtb4iLyQkJyjn7AtOkjxQ2IJcqPhwrM1yGqLfVUtDwQf6A4cb4Pnv5NyJ-y_ICHUwcPZt9xjTfjnR3puE9VGPsN_3C66MLr6uypXuGnTxaVshAKtc8njroXuJbVApnQyjnkIV3vk5duxYmYBbuH86SagzWrkwiWqMEDvCbjAQruzVIBpnB_i-2Y038IvPr-S9vq3WcQPVxwjdMMahqU93vgN2JyDbQm_K6vyujj8Egy3XfYUVVBGj568y_LqfKLFTgmEc8X4lBznKlcJ2gyaNTV0B870IvseBo0xpMp12OUgHMNCUGvThFelASV78vjUoLfrsj58EosIf3eqNm01lgmZwxmXRkqQl0njXsQsW2oR1Ud-8qJvOpYCdD6JTtxRfERPkixi4UV47D0QCIjFoiXb2ghwq27ovX0Rohc_TElEZUrZFEnuwYBhYVrQ8tAxLv7iMkEz78cAc6oUgPFMuKLMeOv2X7ZnvECXEkqIBwFGRv-r3D5UsXI\",cRq: {ru: 'aHR0cHM6Ly93d3cuY29uZ3Jlc3MuZ292L2JpbGwvMTE4dGgtY29uZ3Jlc3Mvc2VuYXRlLWJpbGwvNDc1L3RleHQ/Zm9ybWF0PXR4dA==',ra: 'cHl0aG9uLXJlcXVlc3RzLzIuMzEuMA==',rm: 'R0VU',d: '3zKTar4AQew83lEMHKdWzP2oZP/tO/m0sbiz4r0hTGljdiEftSXSHBN5A4NG5o1ntAHzqf0KzVwLzsAQRRY/6yME9W5ROU5HZPXhIe9od6uNkC1DdwNvpC3oxC+DCXXHV3nd8s1DartW5iRQRp/X9atj/e6YUVuBoaXu6FYgzF8FOT6D9z/6vOnpXHnj31T/4N5k1GWj6bpvezTVd2OSw3GwU7eNhIi0+37/pxJh5CMJztaQRPKH+VMYptlS8xXU41GsaI54mhnHpluZGmvyLina3hAaGyc7Mfs6R1dkaP7OB8Zin5nNLhui1/cx8nCGdULIoz7diFZShtPJHI4Yw3Bb3+zJYwIKsGkDBErpvQ6ND+CYD5Nq0A9VuOrQX6f0p9CJApVdFGrgEJ2F2lal0sYbZgYtMF2LkEqJ8fxICbNIUbcupH1n3y4+0Ut0YveCU8lxBOfhy2xODXWmHtWof7+klJL+BG5xd89YDUxRUVG/NJ8MSkA3xBV0NqCffQigxBVI6PjBRVq+f/hC4HnaZSiHyUfYSW1VTmxpNWU5xsOItsRBC2aTvv+4zs6YWbnl',t: 'MTY5NTc2MDUwNy4zODcwMDA=',cT: Math.floor(Date.now() / 1000),m: 'EY1eKo4CD1OPJKZx8HG5D/+uljTPvqn1N3P6K3CsEkA=',i1: 'j+IUhD7CRN5WyB8t+QdHpQ==',i2: 'mRJFkg919js6uK35F6apGQ==',zh: 'P/37dfGD+KUZFm0qKuE3N/q0gn3BGPttWTswwTYBAD8=',uh: 'YE9XOpG5TeHmhA1zfs5mxC8CrRZzq2a/+r+OU7dliYQ=',hh: 'cTbG2zct7/9cr7abEWSg59sInRszec2mTWq3jspVNx4=',}};var cpo = document.createElement('script');cpo.src = '/cdn-cgi/challenge-platform/h/g/orchestrate/chl_page/v1?ray=80ce4aa32dc943d7';window._cf_chl_opt.cOgUHash = location.hash === '' && location.href.indexOf('#') !== -1 ? '#' : location.hash;window._cf_chl_opt.cOgUQuery = location.search === '' && location.href.slice(0, location.href.length - window._cf_chl_opt.cOgUHash.length).indexOf('?') !== -1 ? '?' : location.search;if (window.history && window.history.replaceState) {var ogU = location.pathname + window._cf_chl_opt.cOgUQuery + window._cf_chl_opt.cOgUHash;history.replaceState(null, null, \"\\/bill\\/118th-congress\\/senate-bill\\/475\\/text?format=txt&__cf_chl_rt_tk=NhycAR_GItuzMpFah09W_zWwbNTVEtbN5h61Oxm_Vfw-1695760507-0-gaNycGzNCqU\" + window._cf_chl_opt.cOgUHash);cpo.onload = function() {history.replaceState(null, null, ogU);}}document.getElementsByTagName('head')[0].appendChild(cpo);}());</script></body></html>"
      ]
     },
     "execution_count": 6,
     "metadata": {},
     "output_type": "execute_result"
    }
   ],
   "source": [
    "BeautifulSoup(r.text, 'html.parser')"
   ]
  },
  {
   "cell_type": "code",
   "execution_count": 7,
   "id": "e062a4cf-29b1-4443-97b0-82e0f25b29ab",
   "metadata": {},
   "outputs": [],
   "source": [
    "url = 'https://www.govinfo.gov/content/pkg/BILLS-118s475is/html/BILLS-118s475is.htm'"
   ]
  },
  {
   "cell_type": "code",
   "execution_count": 9,
   "id": "1a90fd59-00a3-4443-a484-b34d459b553f",
   "metadata": {},
   "outputs": [
    {
     "data": {
      "text/plain": [
       "<Response [200]>"
      ]
     },
     "execution_count": 9,
     "metadata": {},
     "output_type": "execute_result"
    }
   ],
   "source": [
    "r = requests.get(url, headers = headers)\n",
    "r"
   ]
  },
  {
   "cell_type": "code",
   "execution_count": 12,
   "id": "c2c86fd2-7003-4e20-aefb-02899df4f09a",
   "metadata": {},
   "outputs": [
    {
     "data": {
      "text/plain": [
       "<html><body><pre>\n",
       "[Congressional Bills 118th Congress]\n",
       "[From the U.S. Government Publishing Office]\n",
       "[S. 475 Introduced in Senate (IS)]\n",
       "\n",
       "&lt;DOC&gt;\n",
       "\n",
       "\n",
       "\n",
       "\n",
       "\n",
       "\n",
       "118th CONGRESS\n",
       "  1st Session\n",
       "                                 S. 475\n",
       "\n",
       "   To designate the clinic of the Department of Veterans Affairs in \n",
       "   Gallup, New Mexico, as the Hiroshi ``Hershey'' Miyamura VA Clinic.\n",
       "\n",
       "\n",
       "_______________________________________________________________________\n",
       "\n",
       "\n",
       "                   IN THE SENATE OF THE UNITED STATES\n",
       "\n",
       "                           February 16, 2023\n",
       "\n",
       "Mr. Heinrich (for himself and Mr. Lujan) introduced the following bill; \n",
       "which was read twice and referred to the Committee on Veterans' Affairs\n",
       "\n",
       "_______________________________________________________________________\n",
       "\n",
       "                                 A BILL\n",
       "\n",
       "\n",
       " \n",
       "   To designate the clinic of the Department of Veterans Affairs in \n",
       "   Gallup, New Mexico, as the Hiroshi ``Hershey'' Miyamura VA Clinic.\n",
       "\n",
       "    Be it enacted by the Senate and House of Representatives of the \n",
       "United States of America in Congress assembled,\n",
       "\n",
       "SECTION 1. DESIGNATION OF HIROSHI ``HERSHEY'' MIYAMURA DEPARTMENT OF \n",
       "              VETERANS AFFAIRS CLINIC.\n",
       "\n",
       "    (a) Findings.--Congress finds the following:\n",
       "            (1) Hiroshi ``Hershey'' Miyamura was born on October 6, \n",
       "        1925, in Gallup, New Mexico.\n",
       "            (2) A second generation Japanese American, Hershey Miyamura \n",
       "        first served in the United States Army near the end of World \n",
       "        War II.\n",
       "            (3) Hershey Miyamura served in the Army at a time when many \n",
       "        of his fellow Japanese Americans, and that includes his future \n",
       "        wife, were detained in internment camps in the United States.\n",
       "            (4) Hershey Miyamura served in the storied 442nd Infantry \n",
       "        Regiment, which was composed of soldiers with Japanese ancestry \n",
       "        and became one of the most decorated units in the history of \n",
       "        the United States military.\n",
       "            (5) Following the start of the Korean War in 1950, the Army \n",
       "        recalled Hershey Miyamura, who had remained as a member of the \n",
       "        reserve components of the Army, back into active duty.\n",
       "            (6) During an overnight firefight from April 24 to April \n",
       "        25, 1951, then-Corporal Miyamura covered the withdrawal of his \n",
       "        entire company from advancing enemy forces as a machine gun \n",
       "        squad leader.\n",
       "            (7) The selfless actions by Hershey Miyamura that night \n",
       "        allowed all 16 of his men to withdraw safely before he was \n",
       "        severely wounded and captured as a prisoner of war.\n",
       "            (8) Nearly 2\\1/2\\ years later, following his release and \n",
       "        return to the United States, President Eisenhower presented \n",
       "        Hershey Miyamura with the Congressional Medal of Honor in a \n",
       "        ceremony at the White House.\n",
       "            (9) The lifelong dedication of Hershey Miyamura to the \n",
       "        United States never ceased. It continued long after his \n",
       "        decorated military service ended.\n",
       "            (10) After he received his honorable discharge from the \n",
       "        Army, Hershey Miyamura opened a service station along Route 66 \n",
       "        in his hometown of Gallup, New Mexico.\n",
       "            (11) Hershey Miyamura remained active in his community \n",
       "        until his dying days, advocating for his fellow veterans and \n",
       "        inspiring young people with lectures on patriotism, faith, and \n",
       "        service.\n",
       "    (b) Designation.--The clinic of the Department of Veterans Affairs \n",
       "located at 2075 South NM Highway 602, Gallup, New Mexico, shall after \n",
       "the date of the enactment of this Act be known and designated as the \n",
       "``Hiroshi `Hershey' Miyamura Department of Veterans Affairs Clinic'' or \n",
       "the ``Hiroshi `Hershey' Miyamura VA Clinic''.\n",
       "    (c) References.--Any reference in any law, regulation, map, \n",
       "document, paper, or other record of the United States to the clinic \n",
       "referred to in subsection (b) shall be considered to be a reference to \n",
       "the ``Hiroshi `Hershey' Miyamura VA Clinic''.\n",
       "                                 &lt;all&gt;\n",
       "</pre></body></html>"
      ]
     },
     "execution_count": 12,
     "metadata": {},
     "output_type": "execute_result"
    }
   ],
   "source": [
    "mysoup = BeautifulSoup(r.text, 'html.parser')\n",
    "mysoup"
   ]
  },
  {
   "cell_type": "code",
   "execution_count": 16,
   "id": "84070703-0c4d-42d0-bc75-b52de155fe53",
   "metadata": {},
   "outputs": [
    {
     "name": "stdout",
     "output_type": "stream",
     "text": [
      "\n",
      "[Congressional Bills 118th Congress]\n",
      "[From the U.S. Government Publishing Office]\n",
      "[S. 475 Introduced in Senate (IS)]\n",
      "\n",
      "<DOC>\n",
      "\n",
      "\n",
      "\n",
      "\n",
      "\n",
      "\n",
      "118th CONGRESS\n",
      "  1st Session\n",
      "                                 S. 475\n",
      "\n",
      "   To designate the clinic of the Department of Veterans Affairs in \n",
      "   Gallup, New Mexico, as the Hiroshi ``Hershey'' Miyamura VA Clinic.\n",
      "\n",
      "\n",
      "_______________________________________________________________________\n",
      "\n",
      "\n",
      "                   IN THE SENATE OF THE UNITED STATES\n",
      "\n",
      "                           February 16, 2023\n",
      "\n",
      "Mr. Heinrich (for himself and Mr. Lujan) introduced the following bill; \n",
      "which was read twice and referred to the Committee on Veterans' Affairs\n",
      "\n",
      "_______________________________________________________________________\n",
      "\n",
      "                                 A BILL\n",
      "\n",
      "\n",
      " \n",
      "   To designate the clinic of the Department of Veterans Affairs in \n",
      "   Gallup, New Mexico, as the Hiroshi ``Hershey'' Miyamura VA Clinic.\n",
      "\n",
      "    Be it enacted by the Senate and House of Representatives of the \n",
      "United States of America in Congress assembled,\n",
      "\n",
      "SECTION 1. DESIGNATION OF HIROSHI ``HERSHEY'' MIYAMURA DEPARTMENT OF \n",
      "              VETERANS AFFAIRS CLINIC.\n",
      "\n",
      "    (a) Findings.--Congress finds the following:\n",
      "            (1) Hiroshi ``Hershey'' Miyamura was born on October 6, \n",
      "        1925, in Gallup, New Mexico.\n",
      "            (2) A second generation Japanese American, Hershey Miyamura \n",
      "        first served in the United States Army near the end of World \n",
      "        War II.\n",
      "            (3) Hershey Miyamura served in the Army at a time when many \n",
      "        of his fellow Japanese Americans, and that includes his future \n",
      "        wife, were detained in internment camps in the United States.\n",
      "            (4) Hershey Miyamura served in the storied 442nd Infantry \n",
      "        Regiment, which was composed of soldiers with Japanese ancestry \n",
      "        and became one of the most decorated units in the history of \n",
      "        the United States military.\n",
      "            (5) Following the start of the Korean War in 1950, the Army \n",
      "        recalled Hershey Miyamura, who had remained as a member of the \n",
      "        reserve components of the Army, back into active duty.\n",
      "            (6) During an overnight firefight from April 24 to April \n",
      "        25, 1951, then-Corporal Miyamura covered the withdrawal of his \n",
      "        entire company from advancing enemy forces as a machine gun \n",
      "        squad leader.\n",
      "            (7) The selfless actions by Hershey Miyamura that night \n",
      "        allowed all 16 of his men to withdraw safely before he was \n",
      "        severely wounded and captured as a prisoner of war.\n",
      "            (8) Nearly 2\\1/2\\ years later, following his release and \n",
      "        return to the United States, President Eisenhower presented \n",
      "        Hershey Miyamura with the Congressional Medal of Honor in a \n",
      "        ceremony at the White House.\n",
      "            (9) The lifelong dedication of Hershey Miyamura to the \n",
      "        United States never ceased. It continued long after his \n",
      "        decorated military service ended.\n",
      "            (10) After he received his honorable discharge from the \n",
      "        Army, Hershey Miyamura opened a service station along Route 66 \n",
      "        in his hometown of Gallup, New Mexico.\n",
      "            (11) Hershey Miyamura remained active in his community \n",
      "        until his dying days, advocating for his fellow veterans and \n",
      "        inspiring young people with lectures on patriotism, faith, and \n",
      "        service.\n",
      "    (b) Designation.--The clinic of the Department of Veterans Affairs \n",
      "located at 2075 South NM Highway 602, Gallup, New Mexico, shall after \n",
      "the date of the enactment of this Act be known and designated as the \n",
      "``Hiroshi `Hershey' Miyamura Department of Veterans Affairs Clinic'' or \n",
      "the ``Hiroshi `Hershey' Miyamura VA Clinic''.\n",
      "    (c) References.--Any reference in any law, regulation, map, \n",
      "document, paper, or other record of the United States to the clinic \n",
      "referred to in subsection (b) shall be considered to be a reference to \n",
      "the ``Hiroshi `Hershey' Miyamura VA Clinic''.\n",
      "                                 <all>\n",
      "\n"
     ]
    }
   ],
   "source": [
    "print(mysoup.find_all('pre')[0].text)"
   ]
  }
 ],
 "metadata": {
  "kernelspec": {
   "display_name": "Python 3 (ipykernel)",
   "language": "python",
   "name": "python3"
  },
  "language_info": {
   "codemirror_mode": {
    "name": "ipython",
    "version": 3
   },
   "file_extension": ".py",
   "mimetype": "text/x-python",
   "name": "python",
   "nbconvert_exporter": "python",
   "pygments_lexer": "ipython3",
   "version": "3.11.4"
  }
 },
 "nbformat": 4,
 "nbformat_minor": 5
}
